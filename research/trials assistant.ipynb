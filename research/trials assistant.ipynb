{
 "cells": [
  {
   "cell_type": "code",
   "execution_count": 1,
   "id": "d40cd2f2",
   "metadata": {},
   "outputs": [
    {
     "data": {
      "text/plain": [
       "'d:\\\\Projects\\\\Gen AI\\\\medical-assistant\\\\research'"
      ]
     },
     "execution_count": 1,
     "metadata": {},
     "output_type": "execute_result"
    }
   ],
   "source": [
    "%pwd"
   ]
  },
  {
   "cell_type": "code",
   "execution_count": 2,
   "id": "6a93eb6b",
   "metadata": {},
   "outputs": [
    {
     "data": {
      "text/plain": [
       "'d:\\\\Projects\\\\Gen AI\\\\medical-assistant'"
      ]
     },
     "execution_count": 2,
     "metadata": {},
     "output_type": "execute_result"
    }
   ],
   "source": [
    "import os \n",
    "os.chdir(\"../\")\n",
    "%pwd"
   ]
  },
  {
   "cell_type": "code",
   "execution_count": 3,
   "id": "1acae748",
   "metadata": {},
   "outputs": [
    {
     "data": {
      "text/plain": [
       "True"
      ]
     },
     "execution_count": 3,
     "metadata": {},
     "output_type": "execute_result"
    }
   ],
   "source": [
    "from dotenv import load_dotenv\n",
    "import os\n",
    "load_dotenv()"
   ]
  },
  {
   "cell_type": "code",
   "execution_count": 4,
   "id": "80fdb336",
   "metadata": {},
   "outputs": [],
   "source": [
    "PINECONE_API_KEY = os.getenv(\"PINECONE_API_KEY\")\n",
    "OPENAI_API_KEY = os.getenv(\"OPENAI_API_KEY\")\n",
    "OPENROUTER_API_KEY = os.getenv(\"OPENROUTER_API_KEY\")"
   ]
  },
  {
   "cell_type": "code",
   "execution_count": 5,
   "id": "83255429",
   "metadata": {},
   "outputs": [
    {
     "data": {
      "text/plain": [
       "<pinecone.pinecone.Pinecone at 0x17cfa6d6010>"
      ]
     },
     "execution_count": 5,
     "metadata": {},
     "output_type": "execute_result"
    }
   ],
   "source": [
    "from pinecone import Pinecone\n",
    "pinecone_api_key = PINECONE_API_KEY\n",
    "pc = Pinecone(api_key=pinecone_api_key)\n",
    "pc"
   ]
  },
  {
   "cell_type": "code",
   "execution_count": 6,
   "id": "180143ad",
   "metadata": {},
   "outputs": [
    {
     "name": "stdout",
     "output_type": "stream",
     "text": [
      "medical-experiment created\n"
     ]
    }
   ],
   "source": [
    "from pinecone import Pinecone\n",
    "from pinecone import ServerlessSpec\n",
    "\n",
    "index_name = \"medical-experiment\"\n",
    "\n",
    "if not pc.has_index(index_name):\n",
    "    pc.create_index_for_model(\n",
    "        name=index_name,\n",
    "        cloud=\"aws\",\n",
    "        region=\"us-east-1\",\n",
    "        embed={\n",
    "            \"model\":\"llama-text-embed-v2\",\n",
    "            \"field_map\":{\"text\": \"chunk_text\"}\n",
    "        }   \n",
    "    )\n",
    "    print(index_name, \"created\")\n",
    "\n",
    "index = pc.Index(index_name)"
   ]
  },
  {
   "cell_type": "code",
   "execution_count": 7,
   "id": "d0f5a46c",
   "metadata": {},
   "outputs": [
    {
     "name": "stdout",
     "output_type": "stream",
     "text": [
      "{'deletion_protection': 'disabled',\n",
      " 'dimension': 1024,\n",
      " 'embed': {'dimension': 1024,\n",
      "           'field_map': {'text': 'chunk_text'},\n",
      "           'metric': 'cosine',\n",
      "           'model': 'llama-text-embed-v2',\n",
      "           'read_parameters': {'dimension': 1024.0,\n",
      "                               'input_type': 'query',\n",
      "                               'truncate': 'END'},\n",
      "           'vector_type': 'dense',\n",
      "           'write_parameters': {'dimension': 1024.0,\n",
      "                                'input_type': 'passage',\n",
      "                                'truncate': 'END'}},\n",
      " 'host': 'medical-experiment-zs4v7ft.svc.aped-4627-b74a.pinecone.io',\n",
      " 'metric': 'cosine',\n",
      " 'name': 'medical-experiment',\n",
      " 'spec': {'serverless': {'cloud': 'aws', 'region': 'us-east-1'}},\n",
      " 'status': {'ready': True, 'state': 'Ready'},\n",
      " 'tags': None,\n",
      " 'vector_type': 'dense'}\n"
     ]
    }
   ],
   "source": [
    "info = pc.describe_index(index_name)\n",
    "print(info)"
   ]
  },
  {
   "cell_type": "code",
   "execution_count": 10,
   "id": "e249083d",
   "metadata": {},
   "outputs": [],
   "source": [
    "import os\n",
    "from langchain.document_loaders import PyPDFLoader\n",
    "from langchain.text_splitter import RecursiveCharacterTextSplitter\n",
    "\n",
    "# pick one file for testing\n",
    "pdf_path = \"data/patient_data/Patient_P0004.pdf\"\n",
    "patient_id = os.path.basename(pdf_path).replace(\".pdf\", \"\")   \n",
    "\n",
    "# load PDF\n",
    "loader = PyPDFLoader(pdf_path)\n",
    "docs = loader.load()\n",
    "\n",
    "# split into chunks\n",
    "#splitter = RecursiveCharacterTextSplitter(chunk_size=1000, chunk_overlap=200)\n",
    "#chunks = splitter.split_documents(docs)\n",
    "\n",
    "#print(f\"✅ Loaded {len(chunks)} chunks for {patient_id}\")\n",
    "#print(chunks[0].page_content[:1000])   # show preview of first chunk\n"
   ]
  },
  {
   "cell_type": "code",
   "execution_count": 11,
   "id": "c85ace31",
   "metadata": {},
   "outputs": [],
   "source": [
    "import re\n",
    "\n",
    "def visit_aware_chunker_with_merge(text, chunk_size=1000, chunk_overlap=200, min_merge_size=500):\n",
    "    # Step 1: Split on 'visit'\n",
    "    parts = re.split(r'(?=\\bvisit\\b)', text, flags=re.IGNORECASE)\n",
    "    \n",
    "    # Step 2: Chunk each part respecting chunk_size & chunk_overlap\n",
    "    temp_chunks = []\n",
    "    for part in parts:\n",
    "        part = part.strip()\n",
    "        if not part:\n",
    "            continue\n",
    "        \n",
    "        if len(part) <= chunk_size:\n",
    "            temp_chunks.append(part)\n",
    "        else:\n",
    "            start = 0\n",
    "            while start < len(part):\n",
    "                end = start + chunk_size\n",
    "                chunk = part[start:end]\n",
    "                temp_chunks.append(chunk)\n",
    "                start += chunk_size - chunk_overlap  # apply overlap\n",
    "\n",
    "    # Step 3: Merge small consecutive chunks if combined length < min_merge_size\n",
    "    final_chunks = []\n",
    "    buffer = \"\"\n",
    "    \n",
    "    for chunk in temp_chunks:\n",
    "        if len(buffer) + len(chunk) < min_merge_size:\n",
    "            buffer = (buffer + \" \" + chunk).strip()\n",
    "        else:\n",
    "            if buffer:\n",
    "                final_chunks.append(buffer)\n",
    "            buffer = chunk\n",
    "    \n",
    "    if buffer:\n",
    "        final_chunks.append(buffer)\n",
    "    \n",
    "    return final_chunks\n",
    "\n",
    "\n",
    "\n"
   ]
  },
  {
   "cell_type": "code",
   "execution_count": 13,
   "id": "b26a7a64",
   "metadata": {},
   "outputs": [
    {
     "name": "stdout",
     "output_type": "stream",
     "text": [
      "Patient: Arjun Kumar \n",
      "Patient ID: HK-728-455 \n",
      "DOB: 15/08/1975 (Age 48 at first visit) \n",
      "Gender: Male \n",
      "Occupation: Software Project Manager \n",
      "Known Allergies (Established prior to Visit 1): \n",
      "Sulfa Drugs (Trimethoprim/Sulfamethoxazole) - Causes generalized urticaria (hives) and \n",
      "pruritus (itching). \n",
      "No known food allergies. \n",
      "Past Medical History (PMH): \n",
      "Hypertension (HTN), diagnosed 5 years ago, well-controlled on medication. \n",
      "Dyslipidemia, diagnosed 5 years ago. \n",
      "Medications on file (Pre-\n"
     ]
    }
   ],
   "source": [
    "import fitz  # PyMuPDF\n",
    "\n",
    "doc = fitz.open(pdf_path)\n",
    "\n",
    "text = \"\"\n",
    "for page in doc:\n",
    "    text += page.get_text(\"text\") + \"\\n\"\n",
    "\n",
    "\n",
    "chunks = visit_aware_chunker_with_merge(text, chunk_size=1000,chunk_overlap=200, min_merge_size=800)\n",
    "print(chunks[0])"
   ]
  },
  {
   "cell_type": "code",
   "execution_count": 14,
   "id": "54562fe9",
   "metadata": {},
   "outputs": [
    {
     "name": "stdout",
     "output_type": "stream",
     "text": [
      "{'_id': 'Patient_P0004_0', 'chunk_text': 'Patient: Arjun Kumar \\nPatient ID: HK-728-455 \\nDOB: 15/08/1975 (Age 48 at first visit) \\nGender: Male \\nOccupation: Software Project Manager \\nKnown Allergies (Established prior to Visit 1): \\nSulfa Drugs (Trimethoprim/Sulfamethoxazole) - Causes generalized urticaria (hives) and \\npruritus (itching). \\nNo known food allergies. \\nPast Medical History (PMH): \\nHypertension (HTN), diagnosed 5 years ago, well-controlled on medication. \\nDyslipidemia, diagnosed 5 years ago. \\nMedications on file (Pre-', 'patient_id': 'Patient_P0004'}\n"
     ]
    }
   ],
   "source": [
    "records = []\n",
    "for i, chunk in enumerate(chunks):\n",
    "    records.append({\n",
    "        \"_id\": f\"{patient_id}_{i}\", \n",
    "        \"chunk_text\": chunk,\n",
    "        \"patient_id\": patient_id\n",
    "    })\n",
    "\n",
    "print(records[0])   # preview to confirm structure\n",
    "\n"
   ]
  },
  {
   "cell_type": "code",
   "execution_count": null,
   "id": "4c39f0ef",
   "metadata": {},
   "outputs": [],
   "source": []
  },
  {
   "cell_type": "code",
   "execution_count": 15,
   "id": "37d9bd92",
   "metadata": {},
   "outputs": [],
   "source": [
    "index.upsert_records(patient_id, records)"
   ]
  },
  {
   "cell_type": "code",
   "execution_count": 16,
   "id": "c5cd3ad5",
   "metadata": {},
   "outputs": [
    {
     "name": "stdout",
     "output_type": "stream",
     "text": [
      "Patient_P0004\n",
      "{'result': {'hits': [{'_id': 'Patient_P0004_1',\n",
      "                      '_score': 0.470281720161438,\n",
      "                      'fields': {'chunk_text': 'Visit 1): \\n'\n",
      "                                               'Tab. Telmisartan 40 mg - once '\n",
      "                                               'daily \\n'\n",
      "                                               'Tab. Atorvastatin 10 mg - once '\n",
      "                                               'at night \\n'\n",
      "                                               'Social History: \\n'\n",
      "                                               'Smokes occasionally (5-10 '\n",
      "                                               'cigarettes/week, social '\n",
      "                                               'smoker). Denies alcohol use. '\n",
      "                                               'Sedentary job. \\n'\n",
      "                                               'Surgical History: \\n'\n",
      "                                               'Appendectomy (2001) \\n'\n",
      "                                               'Family History: \\n'\n",
      "                                               'Father: History of Coronary '\n",
      "                                               'Artery Disease (CAD), died of '\n",
      "                                               'MI at 65. \\n'\n",
      "                                               'Mother: Alive, has Type 2 '\n",
      "                                               'Diabetes and HTN. Visit 1: '\n",
      "                                               'Initial Consultation for New '\n",
      "                                               'Symptoms \\n'\n",
      "                                               '\\n'\n",
      "                                               'Date: October 26, 2023 \\n'\n",
      "                                               'Reason for',\n",
      "                                 'patient_id': 'Patient_P0004'}},\n",
      "                     {'_id': 'Patient_P0004_0',\n",
      "                      '_score': 0.3568527102470398,\n",
      "                      'fields': {'chunk_text': 'Patient: Arjun Kumar \\n'\n",
      "                                               'Patient ID: HK-728-455 \\n'\n",
      "                                               'DOB: 15/08/1975 (Age 48 at '\n",
      "                                               'first visit) \\n'\n",
      "                                               'Gender: Male \\n'\n",
      "                                               'Occupation: Software Project '\n",
      "                                               'Manager \\n'\n",
      "                                               'Known Allergies (Established '\n",
      "                                               'prior to Visit 1): \\n'\n",
      "                                               'Sulfa Drugs '\n",
      "                                               '(Trimethoprim/Sulfamethoxazole) '\n",
      "                                               '- Causes generalized urticaria '\n",
      "                                               '(hives) and \\n'\n",
      "                                               'pruritus (itching). \\n'\n",
      "                                               'No known food allergies. \\n'\n",
      "                                               'Past Medical History (PMH): \\n'\n",
      "                                               'Hypertension (HTN), diagnosed '\n",
      "                                               '5 years ago, well-controlled '\n",
      "                                               'on medication. \\n'\n",
      "                                               'Dyslipidemia, diagnosed 5 '\n",
      "                                               'years ago. \\n'\n",
      "                                               'Medications on file (Pre-',\n",
      "                                 'patient_id': 'Patient_P0004'}},\n",
      "                     {'_id': 'Patient_P0004_8',\n",
      "                      '_score': 0.33703652024269104,\n",
      "                      'fields': {'chunk_text': 'Visit: \"Routine follow-up for '\n",
      "                                               'HTN and GERD. Now has a '\n",
      "                                               'painful rash on foot.\" \\n'\n",
      "                                               'Subjective:\\u200b\\n'\n",
      "                                               '\"Patient here for scheduled '\n",
      "                                               'follow-up. He reports '\n",
      "                                               'excellent response to '\n",
      "                                               'Pantoprazole - his chest \\n'\n",
      "                                               'burning symptoms have '\n",
      "                                               'completely resolved. His home '\n",
      "                                               'BP log on increased '\n",
      "                                               'Telmisartan shows \\n'\n",
      "                                               'excellent control, with '\n",
      "                                               'averages of 128/82 mmHg. He '\n",
      "                                               'feels less fatigued. However, '\n",
      "                                               'he now \\n'\n",
      "                                               'reports a new, unrelated '\n",
      "                                               'issue: for the past 3 days, he '\n",
      "                                               'has developed a very painful, '\n",
      "                                               'blistering \\n'\n",
      "                                               'rash on the sole of his right '\n",
      "                                               \"foot. He describes it as 'a \"\n",
      "                                               'cluster of tiny blisters on a '\n",
      "                                               \"red base' that \\n\"\n",
      "                                               'is extremely tender to touch, '\n",
      "                                               'making it difficult to wear '\n",
      "                                               'shoes. He denies recent trauma '\n",
      "                                               'to the \\n'\n",
      "                                               'area, new soaps, or '\n",
      "                                               'detergents. He recalls having '\n",
      "                                               'chickenpox as a child.\" \\n'\n",
      "                                               'Objective: \\n'\n",
      "                                               'Vitals: BP: 126/80 mmHg, HR: '\n",
      "                                               '76 bpm. \\n'\n",
      "                                               'Physical Exam: \\n'\n",
      "                                               'Skin: On the plantar surface '\n",
      "                                               'of the right foot, near the '\n",
      "                                               'ball, there is a cluster of '\n",
      "                                               'vesicles \\n'\n",
      "                                               '(small blisters) on an '\n",
      "                                               'erythematous base. The area is '\n",
      "                                               'tender to palpation. No '\n",
      "                                               'drainage. \\n'\n",
      "                                               'Classi',\n",
      "                                 'patient_id': 'Patient_P0004'}},\n",
      "                     {'_id': 'Patient_P0004_2',\n",
      "                      '_score': 0.32195472717285156,\n",
      "                      'fields': {'chunk_text': 'Visit: \"Persistent cough and '\n",
      "                                               'feeling tired for the past 2 '\n",
      "                                               'weeks.\" \\n'\n",
      "                                               'Subjective (What the patient '\n",
      "                                               'says - HPI):\\u200b\\n'\n",
      "                                               '\"Mr. Kumar presents today '\n",
      "                                               'reporting a 2-week history of '\n",
      "                                               'a dry, hacking cough. He '\n",
      "                                               'states it \\n'\n",
      "                                               \"started after a 'bad cold' \"\n",
      "                                               'that his son had. The cough is '\n",
      "                                               'worse at night, preventing him '\n",
      "                                               'from \\n'\n",
      "                                               'sleeping soundly. He also '\n",
      "                                               'reports feeling unusually '\n",
      "                                               'fatigued, describing himself '\n",
      "                                               \"as 'not his usual \\n\"\n",
      "                                               \"self.' He denies fever, \"\n",
      "                                               'chills, shortness of breath, '\n",
      "                                               'or chest pain. He reports some '\n",
      "                                               'post-nasal drip. \\n'\n",
      "                                               'He has been taking '\n",
      "                                               'over-the-counter Cetirizine '\n",
      "                                               '10mg daily with minimal '\n",
      "                                               'relief. His blood \\n'\n",
      "                                               'pressure at home has been '\n",
      "                                               'running slightly high, around '\n",
      "                                               '150/92 mmHg. He is concerned '\n",
      "                                               'about \\n'\n",
      "                                               'his energy levels and the '\n",
      "                                               'persistent cough.\" \\n'\n",
      "                                               \"Objective (Doctor's \"\n",
      "                                               'findings): \\n'\n",
      "                                               'Vitals: BP: 148/90 mmHg, HR: '\n",
      "                                               '88 bpm, Temp: 98.6°F (37.0°C), '\n",
      "                                               'SpO2: 98% on room air. \\n'\n",
      "                                               'Physical Exam: \\n'\n",
      "                                               'HEENT: Mild pharyngeal '\n",
      "                                               'erythema (redness), no '\n",
      "                                               'exudate. \\n'\n",
      "                                               'Lungs: Clear to auscultation '\n",
      "                                               'bilaterally, no wheezes or '\n",
      "                                               'rales. \\n'\n",
      "                                               'Heart: Regular rate a',\n",
      "                                 'patient_id': 'Patient_P0004'}},\n",
      "                     {'_id': 'Patient_P0004_6',\n",
      "                      '_score': 0.3071412444114685,\n",
      "                      'fields': {'chunk_text': '\\n'\n",
      "                                               'Heart: RRR. \\n'\n",
      "                                               'Abdomen: Soft, non-tender, '\n",
      "                                               'active bowel sounds. \\n'\n",
      "                                               'Assessment (A): \\n'\n",
      "                                               'GERD (Gastroesophageal Reflux '\n",
      "                                               'Disease): Classic symptoms of '\n",
      "                                               'retrosternal burning \\n'\n",
      "                                               'worsening with meals and '\n",
      "                                               'recumbency. Likely exacerbated '\n",
      "                                               'by stress. \\n'\n",
      "                                               'Hypertension: Persistently '\n",
      "                                               'elevated. Requires medication '\n",
      "                                               'adjustment. \\n'\n",
      "                                               'Resolving post-viral cough. \\n'\n",
      "                                               'Plan (P): \\n'\n",
      "                                               'GERD: Start trial of Tab. '\n",
      "                                               'Pantoprazole 40 mg once daily '\n",
      "                                               'before breakfast for 4 weeks. '\n",
      "                                               'Counsel \\n'\n",
      "                                               'on dietary modifications: '\n",
      "                                               'avoid spicy foods, caffeine, '\n",
      "                                               'large late-night meals. \\n'\n",
      "                                               'Hypertension: Increase '\n",
      "                                               'Telmisartan dose to 80 mg once '\n",
      "                                               'daily. Re-check BP in 4 '\n",
      "                                               'weeks. \\n'\n",
      "                                               'Stress: Discuss stress '\n",
      "                                               'management techniques. \\n'\n",
      "                                               'Follow-up: Schedule follow-up '\n",
      "                                               'in 4 weeks. Return immediately '\n",
      "                                               'if chest pain becomes severe, '\n",
      "                                               'is \\n'\n",
      "                                               'associated with exertion, or '\n",
      "                                               'is accompanied by shortness of '\n",
      "                                               'breath or sweating.',\n",
      "                                 'patient_id': 'Patient_P0004'}}]},\n",
      " 'usage': {'embed_total_tokens': 7, 'read_units': 1}}\n"
     ]
    }
   ],
   "source": [
    "print(patient_id)\n",
    "query = \"patient visit 1\"\n",
    "\n",
    "results = index.search(\n",
    "    namespace=patient_id,\n",
    "    query={\n",
    "        \"top_k\": 5,\n",
    "        \"inputs\": {\n",
    "            'text': query\n",
    "        }\n",
    "    }\n",
    ")\n",
    "\n",
    "print(results)"
   ]
  },
  {
   "cell_type": "code",
   "execution_count": 17,
   "id": "6b256786",
   "metadata": {},
   "outputs": [
    {
     "name": "stdout",
     "output_type": "stream",
     "text": [
      "Visit 1): \n",
      "Tab. Telmisartan 40 mg - once daily \n",
      "Tab. Atorvastatin 10 mg - once at night \n",
      "Social History: \n",
      "Smokes occasionally (5-10 cigarettes/week, social smoker). Denies alcohol use. Sedentary job. \n",
      "Surgical History: \n",
      "Appendectomy (2001) \n",
      "Family History: \n",
      "Father: History of Coronary Artery Disease (CAD), died of MI at 65. \n",
      "Mother: Alive, has Type 2 Diabetes and HTN. Visit 1: Initial Consultation for New Symptoms \n",
      "\n",
      "Date: October 26, 2023 \n",
      "Reason for\n",
      "Patient: Arjun Kumar \n",
      "Patient ID: HK-728-455 \n",
      "DOB: 15/08/1975 (Age 48 at first visit) \n",
      "Gender: Male \n",
      "Occupation: Software Project Manager \n",
      "Known Allergies (Established prior to Visit 1): \n",
      "Sulfa Drugs (Trimethoprim/Sulfamethoxazole) - Causes generalized urticaria (hives) and \n",
      "pruritus (itching). \n",
      "No known food allergies. \n",
      "Past Medical History (PMH): \n",
      "Hypertension (HTN), diagnosed 5 years ago, well-controlled on medication. \n",
      "Dyslipidemia, diagnosed 5 years ago. \n",
      "Medications on file (Pre-\n",
      "Visit: \"Routine follow-up for HTN and GERD. Now has a painful rash on foot.\" \n",
      "Subjective:​\n",
      "\"Patient here for scheduled follow-up. He reports excellent response to Pantoprazole - his chest \n",
      "burning symptoms have completely resolved. His home BP log on increased Telmisartan shows \n",
      "excellent control, with averages of 128/82 mmHg. He feels less fatigued. However, he now \n",
      "reports a new, unrelated issue: for the past 3 days, he has developed a very painful, blistering \n",
      "rash on the sole of his right foot. He describes it as 'a cluster of tiny blisters on a red base' that \n",
      "is extremely tender to touch, making it difficult to wear shoes. He denies recent trauma to the \n",
      "area, new soaps, or detergents. He recalls having chickenpox as a child.\" \n",
      "Objective: \n",
      "Vitals: BP: 126/80 mmHg, HR: 76 bpm. \n",
      "Physical Exam: \n",
      "Skin: On the plantar surface of the right foot, near the ball, there is a cluster of vesicles \n",
      "(small blisters) on an erythematous base. The area is tender to palpation. No drainage. \n",
      "Classi\n",
      "Visit: \"Persistent cough and feeling tired for the past 2 weeks.\" \n",
      "Subjective (What the patient says - HPI):​\n",
      "\"Mr. Kumar presents today reporting a 2-week history of a dry, hacking cough. He states it \n",
      "started after a 'bad cold' that his son had. The cough is worse at night, preventing him from \n",
      "sleeping soundly. He also reports feeling unusually fatigued, describing himself as 'not his usual \n",
      "self.' He denies fever, chills, shortness of breath, or chest pain. He reports some post-nasal drip. \n",
      "He has been taking over-the-counter Cetirizine 10mg daily with minimal relief. His blood \n",
      "pressure at home has been running slightly high, around 150/92 mmHg. He is concerned about \n",
      "his energy levels and the persistent cough.\" \n",
      "Objective (Doctor's findings): \n",
      "Vitals: BP: 148/90 mmHg, HR: 88 bpm, Temp: 98.6°F (37.0°C), SpO2: 98% on room air. \n",
      "Physical Exam: \n",
      "HEENT: Mild pharyngeal erythema (redness), no exudate. \n",
      "Lungs: Clear to auscultation bilaterally, no wheezes or rales. \n",
      "Heart: Regular rate a\n",
      "\n",
      "Heart: RRR. \n",
      "Abdomen: Soft, non-tender, active bowel sounds. \n",
      "Assessment (A): \n",
      "GERD (Gastroesophageal Reflux Disease): Classic symptoms of retrosternal burning \n",
      "worsening with meals and recumbency. Likely exacerbated by stress. \n",
      "Hypertension: Persistently elevated. Requires medication adjustment. \n",
      "Resolving post-viral cough. \n",
      "Plan (P): \n",
      "GERD: Start trial of Tab. Pantoprazole 40 mg once daily before breakfast for 4 weeks. Counsel \n",
      "on dietary modifications: avoid spicy foods, caffeine, large late-night meals. \n",
      "Hypertension: Increase Telmisartan dose to 80 mg once daily. Re-check BP in 4 weeks. \n",
      "Stress: Discuss stress management techniques. \n",
      "Follow-up: Schedule follow-up in 4 weeks. Return immediately if chest pain becomes severe, is \n",
      "associated with exertion, or is accompanied by shortness of breath or sweating.\n"
     ]
    }
   ],
   "source": [
    "# Assume `results` is your SearchRecordsResponse object\n",
    "hits = results.result['hits']\n",
    "\n",
    "# Extract all chunk_text\n",
    "all_chunks = [hit['fields']['chunk_text'] for hit in hits]\n",
    "\n",
    "# Merge into a single string / paragraph\n",
    "merged_chunks = \"\\n\".join(all_chunks)  # you can also use \" \" instead of \"\\n\"\n",
    "\n",
    "print(merged_chunks)"
   ]
  },
  {
   "cell_type": "code",
   "execution_count": 18,
   "id": "85681069",
   "metadata": {},
   "outputs": [
    {
     "name": "stdout",
     "output_type": "stream",
     "text": [
      "Sending request...\n",
      "Response: Hello! I'm working! 😊  \n",
      "\n",
      "I'm not coming from OpenRouter—I'm powered by **DeepSeek Chat**, developed by **DeepSeek**. Let me know how I can help you today! 🚀\n"
     ]
    }
   ],
   "source": [
    "import os\n",
    "from dotenv import load_dotenv\n",
    "from langchain_openai import ChatOpenAI\n",
    "\n",
    "load_dotenv()\n",
    "\n",
    "chatModel = ChatOpenAI(\n",
    "    model=\"deepseek/deepseek-chat\",    # ✅ safe working model\n",
    "    api_key=OPENROUTER_API_KEY,\n",
    "    base_url=\"https://openrouter.ai/api/v1\",\n",
    "    timeout=30,                        # ⏱ fail fast instead of hanging forever\n",
    "    max_retries=1,                     # no endless retries\n",
    "    default_headers={\n",
    "        \"HTTP-Referer\": \"http://localhost:8501\",\n",
    "        \"X-Title\": \"Medical Chatbot 1\"\n",
    "    },\n",
    ")\n",
    "\n",
    "print(\"Sending request...\")\n",
    "resp = chatModel.invoke(\"Quick test: say hello if you're working! And tell me are you coming from OpenRouter, if no then from where?\")\n",
    "print(\"Response:\", resp.content)\n"
   ]
  },
  {
   "cell_type": "code",
   "execution_count": 19,
   "id": "e9b14d5a",
   "metadata": {},
   "outputs": [],
   "source": [
    "from langchain.chains import create_retrieval_chain\n",
    "from langchain.chains.combine_documents import create_stuff_documents_chain\n",
    "from langchain_core.prompts import ChatPromptTemplate"
   ]
  },
  {
   "cell_type": "code",
   "execution_count": 20,
   "id": "cad24ff2",
   "metadata": {},
   "outputs": [],
   "source": [
    "system_prompt = (\n",
    "    \"You are a diligent and cautious Clinical AI Co-Pilot. Your primary role is to assist physicians by providing accurate, context-aware information and critical safety advisories based solely on the provided patient data and medical knowledge context.\"\n",
    "    \" Core Rules: Your knowledge is strictly limited to the provided Patient Context and Medical Knowledge Base. Never fabricate information. Your most critical function is to prevent medical errors. You must proactively cross-reference any mentioned medications or procedures against the patient's profile (especially allergies, current conditions, and medications) and flag any potential issues with high severity. Provide direct, concise answers first. Elaborate only if the physician asks for detail or if a safety issue requires a detailed explanation. If the context does not contain information needed to answer a question safely or completely, you must state 'The patient's records do not contain information on that.' Do not speculate.\"\n",
    "    \" How to Respond: For Summaries and Questions, analyze the provided patient context and give a clear, factual answer. For Prescription Advice (e.g., 'Can I prescribe X for Y?'): First, check the patient's allergy list and state a clear warning if there is a conflict. Second, consult the Medical Knowledge Base to see if 'X' is indicated for condition 'Y'. Third, if the patient's active medications are known, check for potential drug-drug interactions. Finally, combine these checks into a structured advisory.\"\n",
    "    \" Always conclude with the reminder: 'This is a clinical decision support tool. Please use your professional judgment and verify critical information.'\"\n",
    "    \" Use the following retrieved context to inform your response: \"\n",
    "    \"\\n\\n {context}\"\n",
    ")\n",
    "\n",
    "prompt = ChatPromptTemplate.from_messages(\n",
    "    [\n",
    "        (\"system\", system_prompt),\n",
    "        (\"human\", \"{input}\"),\n",
    "    ]\n",
    ")"
   ]
  },
  {
   "cell_type": "code",
   "execution_count": 22,
   "id": "8a75eb5d",
   "metadata": {},
   "outputs": [
    {
     "name": "stderr",
     "output_type": "stream",
     "text": [
      "C:\\Users\\anime\\AppData\\Local\\Temp\\ipykernel_24496\\3595567648.py:8: LangChainDeprecationWarning: Default values for HuggingFaceEmbeddings.model_name were deprecated in LangChain 0.2.16 and will be removed in 0.4.0. Explicitly pass a model_name to the HuggingFaceEmbeddings constructor instead.\n",
      "  retriever = FAISS.from_documents(docs, HuggingFaceEmbeddings()).as_retriever()\n"
     ]
    }
   ],
   "source": [
    "from langchain.schema import Document\n",
    "from langchain.text_splitter import RecursiveCharacterTextSplitter\n",
    "from langchain.vectorstores import FAISS\n",
    "from langchain.embeddings import HuggingFaceEmbeddings\n",
    "\n",
    "# Wrap string, split, create vectorstore, and retriever\n",
    "docs = RecursiveCharacterTextSplitter(chunk_size=1000, chunk_overlap=100).split_documents([Document(page_content=merged_chunks)])\n",
    "retriever = FAISS.from_documents(docs, HuggingFaceEmbeddings()).as_retriever()\n",
    "\n",
    "\n"
   ]
  },
  {
   "cell_type": "code",
   "execution_count": 23,
   "id": "d168ceb3",
   "metadata": {},
   "outputs": [],
   "source": [
    "question_answer_chain = create_stuff_documents_chain(chatModel, prompt)\n",
    "rag_chain = create_retrieval_chain(retriever, question_answer_chain)"
   ]
  },
  {
   "cell_type": "code",
   "execution_count": 24,
   "id": "92db63da",
   "metadata": {},
   "outputs": [
    {
     "name": "stdout",
     "output_type": "stream",
     "text": [
      "Here is the key information from **Visit 1** for **Arjun Kumar (Patient ID: HK-728-455)**:\n",
      "\n",
      "### **Visit 1 Details (Initial Consultation for New Symptoms)**  \n",
      "**Date:** October 26, 2023  \n",
      "**Reason for Visit:** Routine follow-up for **hypertension (HTN)** and **GERD**, plus a new complaint of a **painful blistering rash** on the sole of his right foot.  \n",
      "\n",
      "### **Subjective (Patient Reports)**  \n",
      "- **GERD:** Excellent response to **Pantoprazole 40 mg**—chest burning symptoms resolved.  \n",
      "- **Hypertension:** BP well-controlled on increased **Telmisartan 80 mg** (home BP log averages: **128/82 mmHg**). Less fatigued.  \n",
      "- **New Issue:**  \n",
      "  - **Painful blistering rash** on the sole of the **right foot** for **3 days**.  \n",
      "  - Described as **\"cluster of tiny blisters on a red base\"**, extremely tender, making it hard to wear shoes.  \n",
      "  - **No recent trauma, new soaps, or detergents.**  \n",
      "  - **History of childhood chickenpox.**  \n",
      "\n",
      "### **Objective (Exam Findings)**  \n",
      "- **Vitals:** BP **126/80 mmHg**, HR **76 bpm**.  \n",
      "- **Skin Exam:**  \n",
      "  - **Plantar surface of right foot** (near the ball) shows **cluster of vesicles (small blisters) on an erythematous base**.  \n",
      "  - **Tender to palpation**, no drainage.  \n",
      "\n",
      "### **Assessment (Diagnoses)**  \n",
      "1. **GERD (Gastroesophageal Reflux Disease)** – Symptoms resolved on Pantoprazole.  \n",
      "2. **Hypertension** – Well-controlled on Telmisartan.  \n",
      "3. **New Rash** – **Suspected herpes zoster (shingles)** given history of chickenpox and vesicular rash in a dermatomal distribution.  \n",
      "\n",
      "### **Plan (Treatment & Follow-Up)**  \n",
      "- **GERD:** Continue **Pantoprazole 40 mg daily**, dietary counseling (avoid spicy foods, caffeine, late meals).  \n",
      "- **Hypertension:** Maintain **Telmisartan 80 mg daily**, recheck BP in 4 weeks.  \n",
      "- **Rash:**  \n",
      "  - Likely **shingles**—consider antiviral (e.g., **acyclovir, valacyclovir**) if confirmed.  \n",
      "  - Pain management (e.g., NSAIDs, topical lidocaine if needed).  \n",
      "- **Follow-Up:** Schedule in **4 weeks** or sooner if worsening symptoms.  \n",
      "\n",
      "### **Safety Considerations**  \n",
      "- **Allergy Alert:** **Sulfa drugs (Trimethoprim/Sulfamethoxazole)** → causes hives & itching.  \n",
      "- **Current Medications:**  \n",
      "  - **Telmisartan 80 mg** (HTN)  \n",
      "  - **Atorvastatin 10 mg** (dyslipidemia)  \n",
      "  - **Pantoprazole 40 mg** (GERD)  \n",
      "\n",
      "**This is a clinical decision support tool. Please use your professional judgment and verify critical information.**  \n",
      "\n",
      "Would you like additional details on any aspect?\n"
     ]
    }
   ],
   "source": [
    "response = rag_chain.invoke({\"input\": \"information about patient's visit 1\"})\n",
    "print(response[\"answer\"])"
   ]
  },
  {
   "cell_type": "code",
   "execution_count": 25,
   "id": "e0fd6477",
   "metadata": {},
   "outputs": [
    {
     "name": "stdout",
     "output_type": "stream",
     "text": [
      "The patient, Arjun Kumar, has a known allergy to **Sulfa Drugs (Trimethoprim/Sulfamethoxazole)**, which causes generalized urticaria (hives) and pruritus (itching).  \n",
      "\n",
      "**Critical Safety Reminder:**  \n",
      "- Avoid prescribing sulfonamide antibiotics (e.g., Bactrim, Septra) or other sulfa-containing medications.  \n",
      "- Cross-check any new medication for potential sulfa components before administration.  \n",
      "\n",
      "*No other allergies (e.g., food, environmental) are documented in the patient's records.*  \n",
      "\n",
      "**This is a clinical decision support tool. Please use your professional judgment and verify critical information.**\n"
     ]
    }
   ],
   "source": [
    "response = rag_chain.invoke({\"input\": \"any allergies\"})\n",
    "print(response[\"answer\"])"
   ]
  },
  {
   "cell_type": "code",
   "execution_count": null,
   "id": "6782aac1",
   "metadata": {},
   "outputs": [],
   "source": []
  }
 ],
 "metadata": {
  "kernelspec": {
   "display_name": "genai_venv",
   "language": "python",
   "name": "python3"
  },
  "language_info": {
   "codemirror_mode": {
    "name": "ipython",
    "version": 3
   },
   "file_extension": ".py",
   "mimetype": "text/x-python",
   "name": "python",
   "nbconvert_exporter": "python",
   "pygments_lexer": "ipython3",
   "version": "3.11.9"
  }
 },
 "nbformat": 4,
 "nbformat_minor": 5
}
