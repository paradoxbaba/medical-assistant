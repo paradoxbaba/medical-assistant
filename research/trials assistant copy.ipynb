{
 "cells": [
  {
   "cell_type": "code",
   "execution_count": 1,
   "id": "d40cd2f2",
   "metadata": {},
   "outputs": [
    {
     "data": {
      "text/plain": [
       "'d:\\\\Projects\\\\Gen AI\\\\medical-assistant\\\\research'"
      ]
     },
     "execution_count": 1,
     "metadata": {},
     "output_type": "execute_result"
    }
   ],
   "source": [
    "%pwd"
   ]
  },
  {
   "cell_type": "code",
   "execution_count": 2,
   "id": "6a93eb6b",
   "metadata": {},
   "outputs": [
    {
     "data": {
      "text/plain": [
       "'d:\\\\Projects\\\\Gen AI\\\\medical-assistant'"
      ]
     },
     "execution_count": 2,
     "metadata": {},
     "output_type": "execute_result"
    }
   ],
   "source": [
    "import os \n",
    "os.chdir(\"../\")\n",
    "%pwd"
   ]
  },
  {
   "cell_type": "code",
   "execution_count": 3,
   "id": "1acae748",
   "metadata": {},
   "outputs": [
    {
     "data": {
      "text/plain": [
       "True"
      ]
     },
     "execution_count": 3,
     "metadata": {},
     "output_type": "execute_result"
    }
   ],
   "source": [
    "from dotenv import load_dotenv\n",
    "import os\n",
    "load_dotenv()"
   ]
  },
  {
   "cell_type": "code",
   "execution_count": 4,
   "id": "80fdb336",
   "metadata": {},
   "outputs": [],
   "source": [
    "PINECONE_API_KEY = os.getenv(\"PINECONE_API_KEY\")\n",
    "OPENAI_API_KEY = os.getenv(\"OPENAI_API_KEY\")\n",
    "OPENROUTER_API_KEY = os.getenv(\"OPENROUTER_API_KEY\")"
   ]
  },
  {
   "cell_type": "code",
   "execution_count": 5,
   "id": "83255429",
   "metadata": {},
   "outputs": [
    {
     "data": {
      "text/plain": [
       "<pinecone.pinecone.Pinecone at 0x1a05c329810>"
      ]
     },
     "execution_count": 5,
     "metadata": {},
     "output_type": "execute_result"
    }
   ],
   "source": [
    "from pinecone import Pinecone\n",
    "pinecone_api_key = PINECONE_API_KEY\n",
    "pc = Pinecone(api_key=pinecone_api_key)\n",
    "pc"
   ]
  },
  {
   "cell_type": "code",
   "execution_count": 6,
   "id": "180143ad",
   "metadata": {},
   "outputs": [
    {
     "name": "stdout",
     "output_type": "stream",
     "text": [
      "medical-experiment-copy created\n"
     ]
    }
   ],
   "source": [
    "from pinecone import Pinecone\n",
    "from pinecone import ServerlessSpec\n",
    "\n",
    "index_name = \"medical-experiment-copy\"\n",
    "\n",
    "if not pc.has_index(index_name):\n",
    "    pc.create_index(\n",
    "        name = index_name,\n",
    "        dimension=384,  # Dimension of the embeddings\n",
    "        metric= \"cosine\",  # Cosine similarity\n",
    "        spec=ServerlessSpec(cloud=\"aws\", region=\"us-east-1\")\n",
    "    )\n",
    "    print(index_name, \"created\")\n",
    "\n",
    "index = pc.Index(index_name)"
   ]
  },
  {
   "cell_type": "code",
   "execution_count": 7,
   "id": "d0f5a46c",
   "metadata": {},
   "outputs": [
    {
     "name": "stdout",
     "output_type": "stream",
     "text": [
      "{'deletion_protection': 'disabled',\n",
      " 'dimension': 384,\n",
      " 'host': 'medical-experiment-copy-zs4v7ft.svc.aped-4627-b74a.pinecone.io',\n",
      " 'metric': 'cosine',\n",
      " 'name': 'medical-experiment-copy',\n",
      " 'spec': {'serverless': {'cloud': 'aws', 'region': 'us-east-1'}},\n",
      " 'status': {'ready': True, 'state': 'Ready'},\n",
      " 'tags': None,\n",
      " 'vector_type': 'dense'}\n"
     ]
    }
   ],
   "source": [
    "info = pc.describe_index(index_name)\n",
    "print(info)"
   ]
  },
  {
   "cell_type": "code",
   "execution_count": 8,
   "id": "e249083d",
   "metadata": {},
   "outputs": [
    {
     "data": {
      "text/plain": [
       "Document(metadata={'producer': 'Skia/PDF m141 Google Docs Renderer', 'creator': 'PyPDF', 'creationdate': '', 'title': 'Patient: P0004', 'source': 'data/patient_data/Patient_P0004.pdf', 'total_pages': 5, 'page': 0, 'page_label': '1'}, page_content='Patient:  Arjun  Kumar  \\nPatient  ID:  HK-728-455  \\nDOB:  15/08/1975  (Age  48  at  first  visit)  \\nGender:  Male  \\nOccupation:  Software  Project  Manager  \\nKnown  Allergies  (Established  prior  to  Visit  1):  \\nSulfa  Drugs  (Trimethoprim/Sulfamethoxazole)  -  Causes  generalized  urticaria  (hives)  and  \\npruritus\\n \\n(itching).\\n \\nNo  known  food  allergies.  \\nPast  Medical  History  (PMH):  \\nHypertension  (HTN),  diagnosed  5  years  ago,  well-controlled  on  medication.  \\nDyslipidemia,  diagnosed  5  years  ago.  \\nMedications  on  file  (Pre-Visit  1):  \\nTab.  Telmisartan  40  mg  -  once  daily  \\nTab.  Atorvastatin  10  mg  -  once  at  night  \\nSocial  History:  \\nSmokes  occasionally  (5-10  cigarettes/week,  social  smoker).  Denies  alcohol  use.  Sedentary  job.  \\nSurgical  History:  \\nAppendectomy  (2001)  \\nFamily  History:  \\nFather:  History  of  Coronary  Artery  Disease  (CAD),  died  of  MI  at  65.  \\nMother:  Alive,  has  Type  2  Diabetes  and  HTN.')"
      ]
     },
     "execution_count": 8,
     "metadata": {},
     "output_type": "execute_result"
    }
   ],
   "source": [
    "import os\n",
    "from langchain.document_loaders import PyPDFLoader\n",
    "from langchain.text_splitter import RecursiveCharacterTextSplitter\n",
    "\n",
    "# pick one file for testing\n",
    "pdf_path = \"data/patient_data/Patient_P0004.pdf\"\n",
    "patient_id = os.path.basename(pdf_path).replace(\".pdf\", \"\")   \n",
    "\n",
    "loader = PyPDFLoader(pdf_path)\n",
    "docs = loader.load()\n",
    "\n",
    "# split into chunks\n",
    "splitter = RecursiveCharacterTextSplitter(chunk_size=1000, chunk_overlap=200)\n",
    "chunks = splitter.split_documents(docs)\n",
    "\n",
    "chunks[0]\n"
   ]
  },
  {
   "cell_type": "code",
   "execution_count": 9,
   "id": "4e9e7b08",
   "metadata": {},
   "outputs": [
    {
     "name": "stderr",
     "output_type": "stream",
     "text": [
      "C:\\Users\\anime\\AppData\\Local\\Temp\\ipykernel_19544\\3442840130.py:8: LangChainDeprecationWarning: The class `HuggingFaceEmbeddings` was deprecated in LangChain 0.2.2 and will be removed in 1.0. An updated version of the class exists in the :class:`~langchain-huggingface package and should be used instead. To use it run `pip install -U :class:`~langchain-huggingface` and import as `from :class:`~langchain_huggingface import HuggingFaceEmbeddings``.\n",
      "  embeddings = HuggingFaceEmbeddings(\n"
     ]
    },
    {
     "data": {
      "text/plain": [
       "HuggingFaceEmbeddings(client=SentenceTransformer(\n",
       "  (0): Transformer({'max_seq_length': 256, 'do_lower_case': False}) with Transformer model: BertModel \n",
       "  (1): Pooling({'word_embedding_dimension': 384, 'pooling_mode_cls_token': False, 'pooling_mode_mean_tokens': True, 'pooling_mode_max_tokens': False, 'pooling_mode_mean_sqrt_len_tokens': False, 'pooling_mode_weightedmean_tokens': False, 'pooling_mode_lasttoken': False, 'include_prompt': True})\n",
       "  (2): Normalize()\n",
       "), model_name='sentence-transformers/all-MiniLM-L6-v2', cache_folder=None, model_kwargs={}, encode_kwargs={}, multi_process=False, show_progress=False)"
      ]
     },
     "execution_count": 9,
     "metadata": {},
     "output_type": "execute_result"
    }
   ],
   "source": [
    "from langchain.embeddings import HuggingFaceEmbeddings\n",
    "\n",
    "def download_embeddings():\n",
    "    \"\"\"\n",
    "    Download and return the HuggingFace embeddings model.\n",
    "    \"\"\"\n",
    "    model_name = \"sentence-transformers/all-MiniLM-L6-v2\"\n",
    "    embeddings = HuggingFaceEmbeddings(\n",
    "        model_name=model_name\n",
    "    )\n",
    "    return embeddings\n",
    "\n",
    "embedding = download_embeddings()\n",
    "embedding"
   ]
  },
  {
   "cell_type": "code",
   "execution_count": 10,
   "id": "fd8d17b4",
   "metadata": {},
   "outputs": [
    {
     "name": "stdout",
     "output_type": "stream",
     "text": [
      "Patient_P0004\n"
     ]
    }
   ],
   "source": [
    "from langchain_pinecone import PineconeVectorStore\n",
    "\n",
    "print(patient_id)\n",
    "\n",
    "vector_store = PineconeVectorStore.from_documents(\n",
    "    documents=chunks,\n",
    "    embedding=embedding,\n",
    "    index_name=index_name,\n",
    "    namespace=patient_id\n",
    ")"
   ]
  },
  {
   "cell_type": "code",
   "execution_count": 11,
   "id": "d0c5a099",
   "metadata": {},
   "outputs": [
    {
     "name": "stdout",
     "output_type": "stream",
     "text": [
      "['__abstractmethods__', '__annotations__', '__class__', '__delattr__', '__dict__', '__dir__', '__doc__', '__eq__', '__format__', '__ge__', '__getattribute__', '__getstate__', '__gt__', '__hash__', '__init__', '__init_subclass__', '__le__', '__lt__', '__module__', '__ne__', '__new__', '__reduce__', '__reduce_ex__', '__repr__', '__setattr__', '__sizeof__', '__slots__', '__str__', '__subclasshook__', '__weakref__', '_abc_impl', '_asimilarity_search_with_relevance_scores', '_async_index', '_cosine_relevance_score_fn', '_embedding', '_euclidean_relevance_score_fn', '_get_retriever_tags', '_index', '_index_host', '_max_inner_product_relevance_score_fn', '_namespace', '_pinecone_api_key', '_select_relevance_score_fn', '_similarity_search_with_relevance_scores', '_text_key', 'aadd_documents', 'aadd_texts', 'add_documents', 'add_texts', 'adelete', 'afrom_documents', 'afrom_texts', 'aget_by_ids', 'amax_marginal_relevance_search', 'amax_marginal_relevance_search_by_vector', 'as_retriever', 'asearch', 'asimilarity_search', 'asimilarity_search_by_vector', 'asimilarity_search_by_vector_with_score', 'asimilarity_search_with_relevance_scores', 'asimilarity_search_with_score', 'async_index', 'delete', 'distance_strategy', 'embeddings', 'from_documents', 'from_existing_index', 'from_texts', 'get_by_ids', 'get_pinecone_index', 'index', 'max_marginal_relevance_search', 'max_marginal_relevance_search_by_vector', 'search', 'similarity_search', 'similarity_search_by_vector', 'similarity_search_by_vector_with_score', 'similarity_search_with_relevance_scores', 'similarity_search_with_score']\n",
      "{'dimension': 384,\n",
      " 'index_fullness': 0.0,\n",
      " 'metric': 'cosine',\n",
      " 'namespaces': {},\n",
      " 'total_vector_count': 0,\n",
      " 'vector_type': 'dense'}\n"
     ]
    }
   ],
   "source": [
    "print(dir(vector_store))\n",
    "vector_store_index = vector_store._index  # this is the actual Pinecone index\n",
    "print(vector_store_index.describe_index_stats())\n"
   ]
  },
  {
   "cell_type": "code",
   "execution_count": 23,
   "id": "4fd507ed",
   "metadata": {},
   "outputs": [],
   "source": [
    "retriever = vector_store.as_retriever(search_type=\"similarity_score_threshold\", search_kwargs={\"score_threshold\": 0.5, \"namespace\": patient_id})"
   ]
  },
  {
   "cell_type": "code",
   "execution_count": 24,
   "id": "8b25589b",
   "metadata": {},
   "outputs": [
    {
     "data": {
      "text/plain": [
       "[Document(id='08b8b87d-9395-4636-b302-55fdad8e7186', metadata={'creationdate': '', 'creator': 'PyPDF', 'page': 3.0, 'page_label': '4', 'producer': 'Skia/PDF m141 Google Docs Renderer', 'source': 'data/patient_data/Patient_P0004.pdf', 'title': 'Patient: P0004', 'total_pages': 5.0}, page_content='Visit  3:  Routine  Management  &  A  New  Problem  \\nDate:  December  14,  2023  \\nReason  for  Visit:  \"Routine  follow-up  for  HTN  and  GERD.  Now  has  a  painful  rash  on  foot.\"  \\nSubjective:  \\n\"Patient\\n \\nhere\\n \\nfor\\n \\nscheduled\\n \\nfollow-up.\\n \\nHe\\n \\nreports\\n \\nexcellent\\n \\nresponse\\n \\nto\\n \\nPantoprazole\\n \\n-\\n \\nhis\\n \\nchest\\n \\nburning\\n \\nsymptoms\\n \\nhave\\n \\ncompletely\\n \\nresolved.\\n \\nHis\\n \\nhome\\n \\nBP\\n \\nlog\\n \\non\\n \\nincreased\\n \\nTelmisartan\\n \\nshows\\n \\nexcellent\\n \\ncontrol,\\n \\nwith\\n \\naverages\\n \\nof\\n \\n128/82\\n \\nmmHg.\\n \\nHe\\n \\nfeels\\n \\nless\\n \\nfatigued.\\n \\nHowever,\\n \\nhe\\n \\nnow\\n \\nreports\\n \\na\\n \\nnew,\\n \\nunrelated\\n \\nissue:\\n \\nfor\\n \\nthe\\n \\npast\\n \\n3\\n \\ndays,\\n \\nhe\\n \\nhas\\n \\ndeveloped\\n \\na\\n \\nvery\\n \\npainful,\\n \\nblistering\\n \\nrash\\n \\non\\n \\nthe\\n \\nsole\\n \\nof\\n \\nhis\\n \\nright\\n \\nfoot.\\n \\nHe\\n \\ndescribes\\n \\nit\\n \\nas\\n \\n\\'a\\n \\ncluster\\n \\nof\\n \\ntiny\\n \\nblisters\\n \\non\\n \\na\\n \\nred\\n \\nbase\\'\\n \\nthat\\n \\nis\\n \\nextremely\\n \\ntender\\n \\nto\\n \\ntouch,\\n \\nmaking\\n \\nit\\n \\ndifficult\\n \\nto\\n \\nwear\\n \\nshoes.\\n \\nHe\\n \\ndenies\\n \\nrecent\\n \\ntrauma\\n \\nto\\n \\nthe\\n \\narea,\\n \\nnew\\n \\nsoaps,\\n \\nor'),\n",
       " Document(id='7c26a55c-2636-489d-bd56-a6367b3ab986', metadata={'creationdate': '', 'creator': 'PyPDF', 'page': 2.0, 'page_label': '3', 'producer': 'Skia/PDF m141 Google Docs Renderer', 'source': 'data/patient_data/Patient_P0004.pdf', 'title': 'Patient: P0004', 'total_pages': 5.0}, page_content='Visit  2:  Follow-up  &  Worsening  Symptoms  \\nDate:  November  9,  2023  \\nReason  for  Visit:  \"Follow-up  on  BP.  Cough  is  better  but  now  has  new  chest  discomfort.\"  \\nSubjective:  \\n\"Mr.\\n \\nKumar\\n \\nreturns\\n \\nfor\\n \\nfollow-up.\\n \\nHe\\n \\nreports\\n \\nhis\\n \\ncough\\n \\nhas\\n \\nsignificantly\\n \\nimproved\\n \\nand\\n \\nis\\n \\nnow\\n \\nmostly\\n \\nresolved.\\n \\nHis\\n \\nsleep\\n \\nhas\\n \\nimproved.\\n \\nHowever,\\n \\nhe\\n \\nnow\\n \\nreports\\n \\na\\n \\nnew,\\n \\nconcerning\\n \\nsymptom:\\n \\nfor\\n \\nthe\\n \\npast\\n \\n4\\n \\ndays,\\n \\nhe\\n \\nhas\\n \\nexperienced\\n \\na\\n \\n\\'burning\\n \\nsensation\\'\\n \\nin\\n \\nthe\\n \\ncenter\\n \\nof\\n \\nhis\\n \\nchest\\n \\nthat\\n \\nseems\\n \\nto\\n \\nradiate\\n \\nslightly\\n \\nto\\n \\nhis\\n \\nthroat.\\n \\nIt\\n \\noccurs\\n \\nmostly\\n \\nafter\\n \\nlarge\\n \\nmeals\\n \\nand\\n \\nwhen\\n \\nlying\\n \\ndown\\n \\nflat\\n \\nat\\n \\nnight.\\n \\nHe\\n \\nhas\\n \\nto\\n \\nprop\\n \\nhimself\\n \\nup\\n \\nwith\\n \\npillows.\\n \\nHe\\n \\ndenies\\n \\npain\\n \\nwith\\n \\ndeep\\n \\nbreathing\\n \\nor\\n \\nexertion.\\n \\nHe\\n \\nbrought\\n \\nhis\\n \\nhome\\n \\nBP\\n \\nlog,\\n \\nwhich\\n \\nshows\\n \\nreadings\\n \\naveraging\\n \\n145/88\\n \\nmmHg.\\n \\nHe\\n \\nhas\\n \\nbeen\\n \\nunder\\n \\nsignificant\\n \\nstress\\n \\nat\\n \\nwork\\n \\ndue'),\n",
       " Document(id='112c08b8-8717-4ce2-9045-fd4e81588b34', metadata={'creationdate': '', 'creator': 'PyPDF', 'page': 0.0, 'page_label': '1', 'producer': 'Skia/PDF m141 Google Docs Renderer', 'source': 'data/patient_data/Patient_P0004.pdf', 'title': 'Patient: P0004', 'total_pages': 5.0}, page_content='Patient:  Arjun  Kumar  \\nPatient  ID:  HK-728-455  \\nDOB:  15/08/1975  (Age  48  at  first  visit)  \\nGender:  Male  \\nOccupation:  Software  Project  Manager  \\nKnown  Allergies  (Established  prior  to  Visit  1):  \\nSulfa  Drugs  (Trimethoprim/Sulfamethoxazole)  -  Causes  generalized  urticaria  (hives)  and  \\npruritus\\n \\n(itching).\\n \\nNo  known  food  allergies.  \\nPast  Medical  History  (PMH):  \\nHypertension  (HTN),  diagnosed  5  years  ago,  well-controlled  on  medication.  \\nDyslipidemia,  diagnosed  5  years  ago.  \\nMedications  on  file  (Pre-Visit  1):  \\nTab.  Telmisartan  40  mg  -  once  daily  \\nTab.  Atorvastatin  10  mg  -  once  at  night  \\nSocial  History:  \\nSmokes  occasionally  (5-10  cigarettes/week,  social  smoker).  Denies  alcohol  use.  Sedentary  job.  \\nSurgical  History:  \\nAppendectomy  (2001)  \\nFamily  History:  \\nFather:  History  of  Coronary  Artery  Disease  (CAD),  died  of  MI  at  65.  \\nMother:  Alive,  has  Type  2  Diabetes  and  HTN.'),\n",
       " Document(id='efe34aa7-3c8f-4ea9-90ac-e37cb1b48221', metadata={'creationdate': '', 'creator': 'PyPDF', 'page': 3.0, 'page_label': '4', 'producer': 'Skia/PDF m141 Google Docs Renderer', 'source': 'data/patient_data/Patient_P0004.pdf', 'title': 'Patient: P0004', 'total_pages': 5.0}, page_content='distribution\\n \\n(likely\\n \\nS1\\n \\nnerve).\\n \\nHistory\\n \\nof\\n \\nchildhood\\n \\nvaricella\\n \\nconfirms\\n \\nrisk.\\n \\nPlan  (P):  \\nHypertension  &  GERD:  Continue  Telmisartan  80  mg  and  Pantoprazole  40  mg.  \\nShingles:  \\nPrescribe:  Tab.  Valacyclovir  1  gram  three  times  daily  for  7  days.')]"
      ]
     },
     "execution_count": 24,
     "metadata": {},
     "output_type": "execute_result"
    }
   ],
   "source": [
    "retrieved_docs = retriever.invoke(\"information about visit 1\")\n",
    "retrieved_docs"
   ]
  },
  {
   "cell_type": "code",
   "execution_count": 25,
   "id": "ea04858b",
   "metadata": {},
   "outputs": [
    {
     "name": "stdout",
     "output_type": "stream",
     "text": [
      "Sending request...\n",
      "Response: Hello! I'm working perfectly. 😊  \n",
      "\n",
      "I'm not coming from OpenRouter—I'm directly hosted by DeepSeek, the creators of my AI model. Let me know how I can assist you! \n"
     ]
    }
   ],
   "source": [
    "import os\n",
    "from dotenv import load_dotenv\n",
    "from langchain_openai import ChatOpenAI\n",
    "\n",
    "load_dotenv()\n",
    "\n",
    "chatModel = ChatOpenAI(\n",
    "    model=\"deepseek/deepseek-chat\",    # ✅ safe working model\n",
    "    api_key=OPENROUTER_API_KEY,\n",
    "    base_url=\"https://openrouter.ai/api/v1\",\n",
    "    timeout=30,                        # ⏱ fail fast instead of hanging forever\n",
    "    max_retries=1,                     # no endless retries\n",
    "    default_headers={\n",
    "        \"HTTP-Referer\": \"http://localhost:8501\",\n",
    "        \"X-Title\": \"Medical Chatbot 1\"\n",
    "    },\n",
    ")\n",
    "\n",
    "print(\"Sending request...\")\n",
    "resp = chatModel.invoke(\"Quick test: say hello if you're working! And tell me are you coming from OpenRouter, if no then from where?\")\n",
    "print(\"Response:\", resp.content)\n"
   ]
  },
  {
   "cell_type": "code",
   "execution_count": 26,
   "id": "a346e44c",
   "metadata": {},
   "outputs": [],
   "source": [
    "from langchain.chains import create_retrieval_chain\n",
    "from langchain.chains.combine_documents import create_stuff_documents_chain\n",
    "from langchain_core.prompts import ChatPromptTemplate"
   ]
  },
  {
   "cell_type": "code",
   "execution_count": 27,
   "id": "cad24ff2",
   "metadata": {},
   "outputs": [],
   "source": [
    "system_prompt = (\n",
    "    \"You are a clinical safety and information retrieval assistant. Your function is to find answers in the provided context, not to generate medical knowledge. \"\n",
    "    \"STRICT RULES: \"\n",
    "    \"1. SOURCE STRICTLY FROM CONTEXT: You are forbidden from using any internal knowledge, pre-training, or general facts to answer medical questions. Your only sources of information are the 'Patient Context' and the 'Medical Knowledge Base' provided below. \"\n",
    "    \"2. HALLUCINATION PROHIBITION: Never invent a drug, dosage, interaction, side effect, or treatment guideline. If the information is not explicitly in the provided context, you must state 'The necessary information is not available in the patient's records or the provided medical knowledge base.' \"\n",
    "    \"3. SAFETY CHECK PROTOCOL: When asked about a treatment, your only role is to cross-reference the provided context. Check the patient's allergies and medications against the proposed treatment using ONLY the data provided. You cannot validate if a treatment is correct, only if there is a conflict in the data. \"\n",
    "    \"4. NO SPECULATION: Do not speculate, infer, or assume. If a piece of information is missing, state it is missing. \"\n",
    "    \"5. CONCISE RESPONSES: Provide direct, concise answers. \"\n",
    "    \"OPERATIONAL PROCEDURE: \"\n",
    "    \"- For patient summaries: Extract and summarize only the facts present in the Patient Context. \"\n",
    "    \"- For questions about history: Answer only with direct quotes or precise summaries from the Patient Context. \"\n",
    "    \"- For prescription checks: Execute only this sequence: a) Check proposed treatment against patient's allergy list (from Context). b) Check for any documented drug-drug interactions (from Medical Knowledge Base). c) Report any conflicts found. You cannot comment on efficacy or standard of care, only on data conflicts. \"\n",
    "    \"FINAL DISCLAIMER: Always end any advisory response with: 'REMINDER: This is a data retrieval tool, not a clinical decision-maker. Verify all information with primary sources and your professional judgment.' \"\n",
    "    \"Use the following retrieved context to inform your response. If the answer is not here, it is unknown: {context}\"\n",
    ")\n",
    "\n",
    "prompt = ChatPromptTemplate.from_messages(\n",
    "    [\n",
    "        (\"system\", system_prompt),\n",
    "        (\"human\", \"{input}\"),\n",
    "    ]\n",
    ")"
   ]
  },
  {
   "cell_type": "code",
   "execution_count": 28,
   "id": "92db63da",
   "metadata": {},
   "outputs": [],
   "source": [
    "question_answer_chain = create_stuff_documents_chain(chatModel, prompt)\n",
    "rag_chain = create_retrieval_chain(retriever, question_answer_chain)"
   ]
  },
  {
   "cell_type": "code",
   "execution_count": 32,
   "id": "5c07f85c",
   "metadata": {},
   "outputs": [
    {
     "name": "stdout",
     "output_type": "stream",
     "text": [
      "Based on the provided context, there is no mention of blood in the cough. The patient reports a \"dry, hacking cough\" and denies symptoms like fever, chills, shortness of breath, or chest pain. The doctor's assessment also does not note any hemoptysis (coughing up blood).  \n",
      "\n",
      "**REMINDER: This is a data retrieval tool, not a clinical decision-maker. Verify all information with primary sources and your professional judgment.**\n"
     ]
    }
   ],
   "source": [
    "response = rag_chain.invoke({\"input\": \"any blood in cough\"})\n",
    "print(response[\"answer\"])"
   ]
  },
  {
   "cell_type": "code",
   "execution_count": 30,
   "id": "53f8e321",
   "metadata": {},
   "outputs": [
    {
     "name": "stdout",
     "output_type": "stream",
     "text": [
      "Based on the provided context, there is no information available about the drug 'Cofsils' in either the patient's records or the medical knowledge base. Therefore, I cannot confirm or deny its appropriateness for this patient.\n",
      "\n",
      "REMINDER: This is a data retrieval tool, not a clinical decision-maker. Verify all information with primary sources and your professional judgment.\n"
     ]
    }
   ],
   "source": [
    "response = rag_chain.invoke({\"input\": \"can i prescribe him Cofsils\"})\n",
    "print(response[\"answer\"])"
   ]
  },
  {
   "cell_type": "code",
   "execution_count": null,
   "id": "27cc419e",
   "metadata": {},
   "outputs": [],
   "source": []
  }
 ],
 "metadata": {
  "kernelspec": {
   "display_name": "genai_venv",
   "language": "python",
   "name": "python3"
  },
  "language_info": {
   "codemirror_mode": {
    "name": "ipython",
    "version": 3
   },
   "file_extension": ".py",
   "mimetype": "text/x-python",
   "name": "python",
   "nbconvert_exporter": "python",
   "pygments_lexer": "ipython3",
   "version": "3.11.9"
  }
 },
 "nbformat": 4,
 "nbformat_minor": 5
}
